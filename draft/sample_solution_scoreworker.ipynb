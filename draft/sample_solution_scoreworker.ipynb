{
 "cells": [
  {
   "cell_type": "markdown",
   "metadata": {
    "id": "yXNdW3qHemtd"
   },
   "source": [
    "# Пример решения кейса «VK: ScoreWorker»\n",
    "\n",
    "Чтобы вам было легче приступить к работе, мы подготовили пример анализа отзывов о сотруднике на основе обратной связи от коллег и руководителей. **Это не финальное решение, и некоторые важные шаги упущены**, но оно поможет понять основную идею задачи."
   ]
  },
  {
   "cell_type": "markdown",
   "metadata": {
    "id": "G3BoIvQJemte"
   },
   "source": [
    "## Шаг 0\n",
    "**Выбор данных для анализа**\n",
    "\n",
    "Возьмём случайный пример из набора данных:\n",
    "\n",
    "```json\n",
    "[\n",
    "    {\n",
    "        \"ID_reviewer\": 4624,\n",
    "        \"ID_under_review\": 6135,\n",
    "        \"review\": \"К [ИМЯ] можно прийти по любому вопросу: [КОМПАНИЯ]/[КОМПАНИЯ] - отличительная черта: вежливость, мягкость, интеллигентность (не в ущерб отстаиваемым интересам) и при этом высокий уровень профессионализма.\\nВсегда получаю удовольствие от взаимодействия с [ИМЯ]: ни один из запросов не остался без ответа - всегда есть логическое объяснение почему да или почему нет.\"\n",
    "    },\n",
    "    {\n",
    "        \"ID_reviewer\": 325,\n",
    "        \"ID_under_review\": 6135,\n",
    "        \"review\": \"Хороший специалист\"\n",
    "    },\n",
    "    {\n",
    "        \"ID_reviewer\": 28,\n",
    "        \"ID_under_review\": 6135,\n",
    "        \"review\": \"хотелось бы больше ориентации в сторону сделать дело, видимо исторически тяготеешь как то в сторону не пущать. ну или так мне показалось\"\n",
    "    },\n",
    "    {\n",
    "        \"ID_reviewer\": 59073,\n",
    "        \"ID_under_review\": 6135,\n",
    "        \"review\": \"[ИМЯ], спасибо за конструктивное взаимодействие, командную работу и нацеленность на результат, открытость к диалогу и поиск эффективных решений\"\n",
    "    },\n",
    "    {\n",
    "        \"ID_reviewer\": 475,\n",
    "        \"ID_under_review\": 6135,\n",
    "        \"review\": \"лучший программист эвер! и классный человек! однозначно недополучает, нужно поднимать зп!\"\n",
    "    }\n",
    "]\n",
    "```\n",
    "\n",
    "В этом примере ID сотрудника, о котором оставлены отзывы — 6135, его и проанализируем."
   ]
  },
  {
   "cell_type": "markdown",
   "metadata": {
    "id": "BuxKIPzCemte"
   },
   "source": [
    "## Шаг 1\n",
    "**Подготовка данных для анализа**\n",
    "\n",
    "Для начала, мы подготовили данные для анализа, извлекая отзывы о сотруднике с ID 6135."
   ]
  },
  {
   "cell_type": "code",
   "execution_count": 1,
   "metadata": {
    "id": "6n-n_Cg1emtf"
   },
   "outputs": [],
   "source": [
    "import json\n",
    "\n",
    "def load_reviews(file_path):\n",
    "    with open(file_path, 'r', encoding='utf-8') as file:\n",
    "        reviews = json.load(file)\n",
    "    return reviews\n",
    "\n",
    "file_path = \"M:\\python_projects\\innoglobalhack\\InnoglobalHack\\dataset\\sample_reviews.json\"\n",
    "reviews = load_reviews(file_path)"
   ]
  },
  {
   "cell_type": "markdown",
   "metadata": {
    "id": "RL5ERoXSemtf"
   },
   "source": [
    "## Шаг 2\n",
    "**Формирование запроса для LLM**\n",
    "\n",
    "Теперь сформируем запрос для модели `LLama3.1-Instruct`. Далее, с её помощью мы оценим сотрудника на основе выбранных отзывов. Запрос содержит тексты отзывов."
   ]
  },
  {
   "cell_type": "code",
   "execution_count": 2,
   "metadata": {
    "id": "N2Un1-qQemtf"
   },
   "outputs": [],
   "source": [
    "def prepare_prompt(reviews):\n",
    "    prompt = \"Here are some reviews about an employee:\\n\\n\"\n",
    "    for i, review in enumerate(reviews, start=1):\n",
    "        prompt += f\"Review {i}:\\n{review['review']}\\n\\n\"\n",
    "\n",
    "    prompt += \"Based on these reviews, evaluate the employee on a scale from 1 to 5 for the following criteria:\\n\"\n",
    "    prompt += \"1. Professionalism\\n2. Teamwork\\n3. Communication\\n4. Initiative\\n5. Overall Performance\\n\"\n",
    "    prompt += \"Add short (5 sentences) explanation for each score you assigned.\"\n",
    "    return prompt"
   ]
  },
  {
   "cell_type": "markdown",
   "metadata": {
    "id": "k21Bt23uemtf"
   },
   "source": [
    "## Шаг 3\n",
    "**Вызов API модели LLM**\n",
    "\n",
    "Мы отправили подготовленный запрос в API модели LLM, чтобы получить оценку по каждому критерию и общую оценку сотрудника."
   ]
  },
  {
   "cell_type": "code",
   "execution_count": 3,
   "metadata": {
    "id": "hoPJJvbMemtg"
   },
   "outputs": [],
   "source": [
    "import requests\n",
    "import json\n",
    "\n",
    "def evaluate_reviews_with_llm(prompt):\n",
    "    url = \"https://vk-scoreworker-case-backup.olymp.innopolis.university/generate\"\n",
    "    data = {\n",
    "        \"prompt\": [prompt],\n",
    "        \"apply_chat_template\": True,\n",
    "        \"system_prompt\": \"You are a helpful assistant.\",\n",
    "        \"max_tokens\": 400,\n",
    "        \"n\": 1,\n",
    "        \"temperature\": 0.7\n",
    "    }\n",
    "\n",
    "    headers = {\n",
    "        \"Content-Type\": \"application/json\"\n",
    "    }\n",
    "\n",
    "    response = requests.post(url, data=json.dumps(data), headers=headers)\n",
    "\n",
    "    if response.status_code == 200:\n",
    "        return response.json()\n",
    "    else:\n",
    "        return f\"Error: {response.status_code} - {response.text}\""
   ]
  },
  {
   "cell_type": "markdown",
   "metadata": {
    "id": "qre3bt9Semtg"
   },
   "source": [
    "## Результат\n",
    "Модель оценила сотрудника и выдала следующий ответ:"
   ]
  },
  {
   "cell_type": "code",
   "execution_count": 4,
   "metadata": {
    "id": "FDL4_QrHemtg",
    "outputId": "db48239e-10ae-471d-9226-290d032a4b0a"
   },
   "outputs": [
    {
     "name": "stdout",
     "output_type": "stream",
     "text": [
      "LLM Evaluation of Employee based on Reviews:\n",
      "Based on the reviews provided, here's the evaluation of the employee on a scale from 1 to 5 for each of the given criteria, along with a short explanation for each score:\n",
      "\n",
      "**1. Professionalism: 5**\n",
      "The employee demonstrates high professionalism, as mentioned in Review 1, with a great balance of politeness, softness, and intellectualism without compromising on the interests they represent. Review 5 also praises the employee as the \"лучший программист эвер\" (best programmer ever), indicating exceptional professionalism in their field. Reviews 2 and 4 further support this assessment by describing the employee as a \"хороший специалист\" (good specialist) and highlighting their \"конструктивное взаимодействие\" (constructive interaction), respectively. The employee's ability to provide logical explanations for their decisions, as mentioned in Review 1, also showcases their professionalism. Overall, the reviews consistently portray the employee as a highly professional individual.\n",
      "\n",
      "**2. Teamwork: 4**\n",
      "Review 4 explicitly mentions the employee's \"командную работу\" (teamwork), indicating their ability to collaborate effectively with others. Review 1 also implies teamwork by stating that the employee is always willing to help with any questions. Although not all reviews explicitly mention teamwork, there is no negative feedback on this aspect either. The only reason for not assigning a perfect score is that not all reviews highlight teamwork, and Review 3 even suggests that the employee might be slightly hesitant to take action, which could impact teamwork. However, overall, the reviews suggest that the employee is a team player.\n",
      "\n",
      "**3. Communication: 5**\n",
      "Review 1 praises the employee's communication skills, stating that they are always willing to help with any questions and provide logical explanations. Review 4 also highlights the employee's \"открытость к диалогу\" (openness to dialogue), indicating their ability to communicate effectively. The reviews consistently portray the employee as approachable, polite, and\n"
     ]
    }
   ],
   "source": [
    "# Prepare the prompt for the LLM\n",
    "prompt = prepare_prompt(reviews)\n",
    "\n",
    "# Send the prompt to the LLM and get the evaluation\n",
    "evaluation = evaluate_reviews_with_llm(prompt)\n",
    "\n",
    "# Output the result\n",
    "print(\"LLM Evaluation of Employee based on Reviews:\")\n",
    "print(evaluation)"
   ]
  },
  {
   "cell_type": "markdown",
   "metadata": {
    "id": "IYGxgAE5emtg"
   },
   "source": [
    "## Следующие шаги\n",
    "Данное решение учитывает только текст отзывов. Для более глубокого анализа можно рассмотреть дополнительные факторы, такие как частота отзывов, их позитивность/негативность, а также взаимосвязь между отзывами от разных коллег.\n",
    "\n",
    "**Учтите, что**  \n",
    "Решение участников должно составлять краткую сводку о сотруднике, включая числовые оценки по каждому критерию и общую оценку. Помните, что цель этого задания - создать инструмент, способный значительно ускорить и автоматизировать анализ обратной связи о сотрудниках.\n",
    "\n",
    "Удачи в разработке решений!"
   ]
  },
  {
   "cell_type": "code",
   "execution_count": null,
   "metadata": {
    "id": "wBMlLUnHe9_Q"
   },
   "outputs": [],
   "source": []
  }
 ],
 "metadata": {
  "colab": {
   "provenance": []
  },
  "kernelspec": {
   "display_name": "Python 3",
   "language": "python",
   "name": "python3"
  },
  "language_info": {
   "codemirror_mode": {
    "name": "ipython",
    "version": 3
   },
   "file_extension": ".py",
   "mimetype": "text/x-python",
   "name": "python",
   "nbconvert_exporter": "python",
   "pygments_lexer": "ipython3",
   "version": "3.11.9"
  }
 },
 "nbformat": 4,
 "nbformat_minor": 0
}
